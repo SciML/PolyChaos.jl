{
 "cells": [
  {
   "cell_type": "markdown",
   "metadata": {},
   "source": [
    "# Type Hierarchy\n",
    "\n",
    "Let's look at the types `PolyChaos` provides.\n",
    "The high-level perspective looks as such:\n",
    "![type hierarchy](TypeHierarchy_transparent.png)\n",
    "\n",
    "which we will go through step by step.\n",
    "An arrow beginning at one type and ending at another type means that the beginning type is a field of the ending type.\n",
    "For example, the type `OrthoPoly` has a field of type `Measure`; the type `OrthoPolyQ` has a field of type `OrthoPoly` and a field of type `Quad`, and so on.\n",
    "\n",
    "Let's begin with the univariate case. Our running example will be the Gaussian measure.\n",
    "\n",
    "!!! note\n",
    "    If you are unfamiliar with the mathematical background of orthogonal polynomials, please consult [this tutorial](@ref MathematicalBackground).\n",
    "    \n",
    "\n",
    "## Measure\n",
    "It all begins with a measure, more specifically absolutely continuous measures.\n",
    "What are the fields of such a type `measure`?\n",
    "```\n",
    "name::String\n",
    "w::Function\n",
    "dom::Tuple{Float64,Float64}\n",
    "symmetric::Bool\n",
    "pars::Dict\n",
    "```\n",
    "They are a `name`, a weight function $w: \\Omega \\mapsto \\mathbb{R}$ with domain $\\Omega$ (`dom`).\n",
    "If the weight function is symmetric relative to some $m \\in \\Omega$, the field `symmetric` should be set to `true`.\n",
    "Symmetry relative to $m$ means that\n",
    "$$\n",
    "\\forall x \\in \\Omega: \\quad w(m-x) = w(m+x).\n",
    "$$\n",
    "For example, the Gaussian probability density\n",
    "$$\n",
    "w(x) = \\frac{1}{\\sqrt{2\\pi}} \\mathrm{e}^{-x^2/2}\n",
    "$$\n",
    "is symmetric relative to the origin $m=0$.\n",
    "If the weight function has any parameters, then they are stored in the dictionary `pars`.\n",
    "For example, the probability density of the Beta distribution on $\\Omega = [0,1]$ has two positive shape parameters $\\alpha, \\beta > 0$\n",
    "$$\n",
    "w(x) = \\frac{1}{B(\\alpha,\\beta)} x^{\\alpha-1} (1-x)^{\\beta-1}.\n",
    "$$\n",
    "Several measures come built-in with `PolyChaos`(see [here](@ref CommonRandomVariables)).\n",
    "Let's stick to the Gaussian measure:\n"
   ]
  },
  {
   "cell_type": "code",
   "execution_count": 16,
   "metadata": {},
   "outputs": [
    {
     "data": {
      "text/plain": []
     },
     "execution_count": 16,
     "metadata": {},
     "output_type": "execute_result"
    },
    {
     "name": "stdout",
     "output_type": "stream",
     "text": [
      "\u001b[4mMeasure dλ(t)=w(t)dt\u001b[24m\n",
      "name:\t\t\u001b[94mgaussian\u001b[39m\n",
      "w(t):\t\tPolyChaos.w_gaussian\n",
      "dom:\t\t(-Inf, Inf)\n",
      "symmetric:\t\u001b[32mtrue\u001b[39m\n"
     ]
    }
   ],
   "source": [
    "using Revise\n",
    "using PolyChaos\n",
    "m_gauss = Measure(\"gaussian\")"
   ]
  },
  {
   "cell_type": "markdown",
   "metadata": {},
   "source": [
    "The manual way of defining the same thing (and what `PolyChaos` does under the hood for this example) would be"
   ]
  },
  {
   "cell_type": "code",
   "execution_count": 17,
   "metadata": {},
   "outputs": [
    {
     "data": {
      "text/plain": []
     },
     "execution_count": 17,
     "metadata": {},
     "output_type": "execute_result"
    },
    {
     "name": "stdout",
     "output_type": "stream",
     "text": [
      "\u001b[4mMeasure dλ(t)=w(t)dt\u001b[24m\n",
      "name:\t\t\u001b[94mmygaussian\u001b[39m\n",
      "w(t):\t\tw\n",
      "dom:\t\t(-Inf, Inf)\n",
      "symmetric:\t\u001b[32mtrue\u001b[39m\n"
     ]
    }
   ],
   "source": [
    "name = \"mygaussian\"\n",
    "w(x) = 1/sqrt(2*pi)*exp(-0.5*x^2)\n",
    "dom = (-Inf,Inf)\n",
    "symmetric = true\n",
    "pars = Dict()\n",
    "my_m_gauss = Measure(name,w,dom,symmetric,pars)"
   ]
  },
  {
   "cell_type": "markdown",
   "metadata": {},
   "source": [
    "## OrthoPoly\n",
    "Given an absolutely continuous measure we are wondering what are the monic polynomials $\\phi_i: \\Omega \\rightarrow \\mathbb{R}$ that are orthogonal relative to this very measure?\n",
    "Mathematically this reads\n",
    "$$\n",
    "\\langle \\phi_i, \\phi_j \\rangle = \\int_{\\Omega} \\phi_i(t) \\phi_j(t) w(t) \\mathrm{d}t =\n",
    "\\begin{cases}\n",
    "> 0, & i=j \\\\\n",
    "= 0, & i\\neq j.\n",
    "\\end{cases}\n",
    "$$\n",
    "They can be constructed using the type `OrthoPoly`, which has the fields\n",
    "```\n",
    "name::String\n",
    "deg::Int64          # maximum degree\n",
    "α::Vector{Float64}  # recurrence coefficients\n",
    "β::Vector{Float64}  # recurrence coefficients\n",
    "meas::Measure\n",
    "```\n",
    "The purpose of `name` is obvious.\n",
    "The integer `deg` stands for the maxium degree of the polynomials.\n",
    "Rather than storing the polynomials $\\phi_i$ themselves we store the recurrence coefficients `α`, `β` that characterize the system of orthogonal polynomials.\n",
    "These recurrence coefficients are the single most important piece of information for the orthogonal polynomials.\n",
    "For several common measures, there exist analytic formulae.\n",
    "These are built-in to `PolyChaos` and should be used whenever possible.\n",
    "For example, for a Gaussian probability density we can call:"
   ]
  },
  {
   "cell_type": "code",
   "execution_count": 37,
   "metadata": {},
   "outputs": [
    {
     "data": {
      "text/plain": []
     },
     "execution_count": 37,
     "metadata": {},
     "output_type": "execute_result"
    },
    {
     "name": "stdout",
     "output_type": "stream",
     "text": [
      "\n",
      "\u001b[4mUnivariate orthogonal polynomials\u001b[24m\n",
      "name:\u001b[94m\t\tgaussian\u001b[39m\n",
      "degree:\u001b[0m\t\t6\n",
      "#coeffs:\u001b[0m\t7\n",
      "α =\u001b[0m\t\t[0.0, 0.0, 0.0, 0.0, 0.0, 0.0, 0.0]\n",
      "β =\u001b[0m\t\t[1.0, 1.0, 2.0, 3.0, 4.0, 5.0, 6.0]\n",
      "\n",
      "\u001b[4mMeasure dλ(t)=w(t)dt\u001b[24m\n",
      "name:\t\t\u001b[94mgaussian\u001b[39m\n",
      "w(t):\t\tPolyChaos.w_gaussian\n",
      "dom:\t\t(-Inf, Inf)\n",
      "symmetric:\t\u001b[32mtrue\u001b[39m\n"
     ]
    }
   ],
   "source": [
    "d = 6\n",
    "op = OrthoPoly(\"gaussian\",d)"
   ]
  },
  {
   "cell_type": "markdown",
   "metadata": {},
   "source": [
    "On the other hand, `PolyChaos` allows to construct the recurrence coefficients numerically.\n",
    "Possible discretizations are `stieltjes` and `lanczos`; the underlying quadratures can be either one of `clenshaw_curtis`, `fejer`, or `fejer2`."
   ]
  },
  {
   "cell_type": "code",
   "execution_count": 38,
   "metadata": {},
   "outputs": [
    {
     "data": {
      "text/plain": []
     },
     "execution_count": 38,
     "metadata": {},
     "output_type": "execute_result"
    },
    {
     "name": "stdout",
     "output_type": "stream",
     "text": [
      "\n",
      "\u001b[4mUnivariate orthogonal polynomials\u001b[24m\n",
      "name:\u001b[94m\t\tmygaussian\u001b[39m\n",
      "degree:\u001b[0m\t\t6\n",
      "#coeffs:\u001b[0m\t7\n",
      "α =\u001b[0m\t\t[-9.72317e-17, 2.83503e-16, -9.41033e-16, 1.09066e-15, 1.03878e-15, -2.0357e-15, -6.08671e-16]\n",
      "β =\u001b[0m\t\t[1.0, 1.0, 2.0, 3.0, 4.0, 4.99999, 5.99995]\n",
      "\n",
      "\u001b[4mMeasure dλ(t)=w(t)dt\u001b[24m\n",
      "name:\t\t\u001b[94mmygaussian\u001b[39m\n",
      "w(t):\t\tw\n",
      "dom:\t\t(-Inf, Inf)\n",
      "symmetric:\t\u001b[32mtrue\u001b[39m\n"
     ]
    }
   ],
   "source": [
    "my_op = OrthoPoly(\"mygaussian\",d,my_m_gauss;Nquad=200,quadrature=clenshaw_curtis,discretization=lanczos)"
   ]
  },
  {
   "cell_type": "markdown",
   "metadata": {},
   "source": [
    "Let's compare the values of the recurrence coefficients"
   ]
  },
  {
   "cell_type": "code",
   "execution_count": 39,
   "metadata": {},
   "outputs": [
    {
     "data": {
      "text/plain": [
       "7×2 Array{Float64,2}:\n",
       "  9.72317e-17  3.59268e-13\n",
       " -2.83503e-16  1.98234e-11\n",
       "  9.41033e-16  1.0521e-9  \n",
       " -1.09066e-15  2.68327e-8 \n",
       " -1.03878e-15  4.37355e-7 \n",
       "  2.0357e-15   5.11028e-6 \n",
       "  6.08671e-16  4.55036e-5 "
      ]
     },
     "execution_count": 39,
     "metadata": {},
     "output_type": "execute_result"
    }
   ],
   "source": [
    "coeffs(op) - coeffs(my_op)"
   ]
  },
  {
   "cell_type": "markdown",
   "metadata": {},
   "source": [
    "Having constructed the orthogonal polynomials we can evaluate them with `evaluate`.\n",
    "For example, let's evaluate all polynomials from degree $0...d$ at $x=3.$"
   ]
  },
  {
   "cell_type": "code",
   "execution_count": 40,
   "metadata": {},
   "outputs": [
    {
     "data": {
      "text/plain": [
       "6-element Array{Float64,1}:\n",
       "   3.0\n",
       "   8.0\n",
       "  18.0\n",
       "  30.0\n",
       "  18.0\n",
       " -96.0"
      ]
     },
     "execution_count": 40,
     "metadata": {},
     "output_type": "execute_result"
    }
   ],
   "source": [
    "[ evaluate(d_,3.,op) for d_=1:d ]"
   ]
  },
  {
   "cell_type": "markdown",
   "metadata": {},
   "source": [
    "## Quad\n",
    "Quadrature rules are intricately related to orthogonal polynomials.\n",
    "An $n$-point quadrature rule is a pair of so-called nodes $t_k$ and weights $w_k$ for $k=1,\\dots,n$ that allow to solve integrals relative to the measure\n",
    "$$\n",
    "\\int_\\Omega f(t) w(t) \\mathrm{d} t \\approx \\sum_{k=1}^n w_k f(t_k).\n",
    "$$\n",
    "If the integrand $f$ is polynomial, then the specific Gauss quadrature rules possess the remarkable property that an $n$-point quadrature rule can integrate polynomial integrands $f$ of degree at most $2n-1$ *exactly*; no approximation error is made.\n",
    "\n",
    "For common measures, `PolyChaos` resorts to the package [`FastGaussQuadrature`](https://github.com/JuliaApproximation/FastGaussQuadrature.jl)\n",
    "\n",
    "!!! note\n",
    "    The compilation time of `FastGaussQuadrature` is currently extremely slow, [see here](https://github.com/JuliaApproximation/FastGaussQuadrature.jl/issues/47)."
   ]
  },
  {
   "cell_type": "code",
   "execution_count": 41,
   "metadata": {},
   "outputs": [
    {
     "data": {
      "text/plain": []
     },
     "execution_count": 41,
     "metadata": {},
     "output_type": "execute_result"
    },
    {
     "name": "stdout",
     "output_type": "stream",
     "text": [
      "\n",
      "\u001b[4mQuadrature rule\u001b[24m\n",
      "name:\u001b[94m\t\tgaussian\u001b[39m\n",
      "N:\u001b[0m\t\t5\n",
      "nodes\u001b[0m\t\t[-2.85697, -1.35563, 1.33227e-15, 1.35563, 2.85697]\n",
      "weights\u001b[0m\t\t[0.0112574, 0.222076, 0.533333, 0.222076, 0.0112574]\n",
      "\n",
      "\u001b[4mMeasure dλ(t)=w(t)dt\u001b[24m\n",
      "name:\t\t\u001b[94mgaussian\u001b[39m\n",
      "w(t):\t\tPolyChaos.w_gaussian\n",
      "dom:\t\t(-Inf, Inf)\n",
      "symmetric:\t\u001b[32mtrue\u001b[39m\n"
     ]
    }
   ],
   "source": [
    "n=5\n",
    "q = Quad(\"gaussian\",n)"
   ]
  },
  {
   "cell_type": "markdown",
   "metadata": {},
   "source": [
    "`PolyChaos` allows to compute the quadrature rule for arbitrary measures based on the orthogonal polynomials by using the Golub-Welsch-algorithm.\n",
    "This is done as follows"
   ]
  },
  {
   "cell_type": "code",
   "execution_count": 42,
   "metadata": {},
   "outputs": [
    {
     "data": {
      "text/plain": []
     },
     "execution_count": 42,
     "metadata": {},
     "output_type": "execute_result"
    },
    {
     "name": "stdout",
     "output_type": "stream",
     "text": [
      "\n",
      "\u001b[4mQuadrature rule\u001b[24m\n",
      "name:\u001b[94m\t\tgolubwelsch\u001b[39m\n",
      "N:\u001b[0m\t\t5\n",
      "nodes\u001b[0m\t\t[-2.85697, -1.35563, 1.33227e-15, 1.35563, 2.85697]\n",
      "weights\u001b[0m\t\t[0.0112574, 0.222076, 0.533333, 0.222076, 0.0112574]\n",
      "\n",
      "\u001b[4mMeasure dλ(t)=w(t)dt\u001b[24m\n",
      "name:\t\t\u001b[94mgaussian\u001b[39m\n",
      "w(t):\t\tPolyChaos.w_gaussian\n",
      "dom:\t\t(-Inf, Inf)\n",
      "symmetric:\t\u001b[32mtrue\u001b[39m\n"
     ]
    }
   ],
   "source": [
    "my_q = Quad(n,op)"
   ]
  },
  {
   "cell_type": "markdown",
   "metadata": {},
   "source": [
    "Again, let's compare the results"
   ]
  },
  {
   "cell_type": "code",
   "execution_count": 43,
   "metadata": {},
   "outputs": [
    {
     "data": {
      "text/plain": [
       "5×2 Array{Float64,2}:\n",
       " 0.0  0.0\n",
       " 0.0  0.0\n",
       " 0.0  0.0\n",
       " 0.0  0.0\n",
       " 0.0  0.0"
      ]
     },
     "execution_count": 43,
     "metadata": {},
     "output_type": "execute_result"
    }
   ],
   "source": [
    "nw(q) - nw(my_q)"
   ]
  },
  {
   "cell_type": "markdown",
   "metadata": {},
   "source": [
    "!!! note\n",
    "    Once more---[for common measures](@ref CommonRandomVariables), `PolyChaos` has built-in functionality, such as analytic expressions of the recurrence coefficients.\n",
    "    These should always be used, if applicable.\n",
    "    On the other hand, `PolyChaos` allows to construct orthogonal polynomials and quadrature rules for arbitrary weights.\n",
    "    \n",
    "## OrthoPolyQ\n",
    "As you would expect from the figure at the top, the type `OrthoPolyQ` is an amalgamation of `OrthoPoly` and `Quad`.\n",
    "It has just those two fields\n",
    "```\n",
    "op::OrthoPoly\n",
    "quad::Quad\n",
    "```\n",
    "The construction is straightforward"
   ]
  },
  {
   "cell_type": "code",
   "execution_count": 45,
   "metadata": {},
   "outputs": [
    {
     "data": {
      "text/plain": []
     },
     "execution_count": 45,
     "metadata": {},
     "output_type": "execute_result"
    },
    {
     "name": "stdout",
     "output_type": "stream",
     "text": [
      "\n",
      "\u001b[4mUnivariate orthogonal polynomials\u001b[24m\n",
      "name:\u001b[94m\t\tmygaussian\u001b[39m\n",
      "degree:\u001b[0m\t\t6\n",
      "#coeffs:\u001b[0m\t7\n",
      "α =\u001b[0m\t\t[-9.72317e-17, 2.83503e-16, -9.41033e-16, 1.09066e-15, 1.03878e-15, -2.0357e-15, -6.08671e-16]\n",
      "β =\u001b[0m\t\t[1.0, 1.0, 2.0, 3.0, 4.0, 4.99999, 5.99995]\n",
      "\n",
      "\u001b[4mMeasure dλ(t)=w(t)dt\u001b[24m\n",
      "name:\t\t\u001b[94mmygaussian\u001b[39m\n",
      "w(t):\t\tw\n",
      "dom:\t\t(-Inf, Inf)\n",
      "symmetric:\t\u001b[32mtrue\u001b[39m\n",
      "\n",
      "\u001b[4mQuadrature rule\u001b[24m\n",
      "name:\u001b[94m\t\tgolubwelsch\u001b[39m\n",
      "N:\u001b[0m\t\t5\n",
      "nodes\u001b[0m\t\t[-2.85697, -1.35563, 1.33227e-15, 1.35563, 2.85697]\n",
      "weights\u001b[0m\t\t[0.0112574, 0.222076, 0.533333, 0.222076, 0.0112574]\n"
     ]
    }
   ],
   "source": [
    "opq = OrthoPolyQ(op,q)\n",
    "myopq = OrthoPolyQ(my_op,my_q)"
   ]
  },
  {
   "cell_type": "markdown",
   "metadata": {},
   "source": [
    "There is an even simpler constructor, which constructs `OrthoPolyQ` in a single shot"
   ]
  },
  {
   "cell_type": "code",
   "execution_count": 44,
   "metadata": {},
   "outputs": [
    {
     "data": {
      "text/plain": []
     },
     "execution_count": 44,
     "metadata": {},
     "output_type": "execute_result"
    },
    {
     "name": "stdout",
     "output_type": "stream",
     "text": [
      "\n",
      "\u001b[4mUnivariate orthogonal polynomials\u001b[24m\n",
      "name:\u001b[94m\t\tgaussian\u001b[39m\n",
      "degree:\u001b[0m\t\t6\n",
      "#coeffs:\u001b[0m\t7\n",
      "α =\u001b[0m\t\t[0.0, 0.0, 0.0, 0.0, 0.0, 0.0, 0.0]\n",
      "β =\u001b[0m\t\t[1.0, 1.0, 2.0, 3.0, 4.0, 5.0, 6.0]\n",
      "\n",
      "\u001b[4mMeasure dλ(t)=w(t)dt\u001b[24m\n",
      "name:\t\t\u001b[94mgaussian\u001b[39m\n",
      "w(t):\t\tPolyChaos.w_gaussian\n",
      "dom:\t\t(-Inf, Inf)\n",
      "symmetric:\t\u001b[32mtrue\u001b[39m\n",
      "\n",
      "\u001b[4mQuadrature rule\u001b[24m\n",
      "name:\u001b[94m\t\tgaussian\u001b[39m\n",
      "N:\u001b[0m\t\t7\n",
      "nodes\u001b[0m\t\t[-3.75044, -2.36676, -1.15441, 2.66454e-15, 1.15441, 2.36676, 3.75044]\n",
      "weights\u001b[0m\t\t[0.000548269, 0.0307571, 0.240123, 0.457143, 0.240123, 0.0307571, 0.000548269]\n"
     ]
    }
   ],
   "source": [
    "opq = OrthoPolyQ(\"gaussian\",d)"
   ]
  },
  {
   "cell_type": "markdown",
   "metadata": {},
   "source": [
    "## MultiMeasure\n",
    "So far, everything was univariate, the weight of the measure was mapping real numbers to real numbers.\n",
    "`PolyChaos` can handle product measures too.\n",
    "Let's assume the weight function is a product of two independent Gaussian densities\n",
    "$$\n",
    "w: \\mathbb{R} \\times \\mathbb{R} \\rightarrow \\mathbb{R}, \\quad w(x) = \\frac{1}{\\sqrt{2\\pi}} \\mathrm{e}^{x_1^2/2} \\frac{1}{\\sqrt{2\\pi}} \\mathrm{e}^{x_2^2/2}.\n",
    "$$\n",
    "The type `MultiMeasure` serves this purpose, with its fields\n",
    "```\n",
    "name::Vector{String}\n",
    "w::Function\n",
    "w_uni::Vector{Function}\n",
    "dom::Vector{Tuple{Float64,Float64}}\n",
    "symmetric::Vector{Bool}\n",
    "pars::Vector{Dict}\n",
    "```\n",
    "All fields from `Measure` appear in vectorized versions (except for the weight $w$, which is the weight of the product measure)\n",
    "The only *new* field is `w_uni`, which stacks the univariate weight functions.\n",
    "\n",
    "## MultiOrthoPoly\n",
    "Just as we did in the univariate case, we use `MultiMeasure` as a building block for multivariate orthogonal polynomials.\n",
    "The type `MultiOrthoPoly` combines product measures with the respective orthogonal polynomials and their quadrature rules.\n",
    "Its fields are\n",
    "```\n",
    "name::Vector{String}\n",
    "deg::Int64\n",
    "dim::Int64\n",
    "ind::Matrix{Int64} # multi-index\n",
    "meas::MultiMeasure\n",
    "uni::Union{Vector{OrthoPoly},Vector{OrthoPolyQ}}\n",
    "```\n",
    "The names of the univariate bases are stored in `names`; the maximum degree of the basis is `deg`; the overall dimension of the multivariate basis is `dim`; the multi-index `ind` maps the $j$-th multivariate basis to the elements of the univariate bases; the product measure is stored in `meas`; finally, all univariate bases are collected in `uni`.\n",
    "\n",
    "An example will shed light onto the different notions:"
   ]
  },
  {
   "cell_type": "code",
   "execution_count": 47,
   "metadata": {},
   "outputs": [
    {
     "data": {
      "text/plain": []
     },
     "execution_count": 47,
     "metadata": {},
     "output_type": "execute_result"
    },
    {
     "name": "stdout",
     "output_type": "stream",
     "text": [
      "\n",
      "\u001b[4m3-variate orthogonal polynomials\u001b[24m\n",
      "name:\u001b[94m\t\tgaussian\u001b[39m\n",
      "\u001b[94m\t\tgaussian\u001b[39m\n",
      "\u001b[94m\t\tgaussian\u001b[39m\n",
      "deg:\u001b[0m\t\t4\n",
      "dim:\u001b[0m\t\t35\n",
      "ind:\u001b[0m\t\t[0, 0, 0]\n",
      "\u001b[0m\t\t[1, 0, 0]\n",
      "\u001b[0m\t\t[0, 1, 0]\n",
      "\u001b[0m\t\t[0, 0, 1]\n",
      "\u001b[0m\t\t[2, 0, 0]\n",
      "\u001b[0m\t\t[1, 1, 0]\n",
      "\u001b[0m\t\t[1, 0, 1]\n",
      "\t\t...\n",
      "\n"
     ]
    }
   ],
   "source": [
    "maxd = 4\n",
    "mop = MultiOrthoPoly([opq; opq; opq],maxd)"
   ]
  },
  {
   "cell_type": "markdown",
   "metadata": {},
   "source": [
    "This creates a product measure of three univariate measures.\n",
    "The maximum degree is 4, which leads to an overall basis dimension of 35.\n",
    "For a more detailed discussion please [click here](MultivariateMonicOrthogonalPolynomials)."
   ]
  },
  {
   "cell_type": "markdown",
   "metadata": {},
   "source": [
    "## Tensor\n",
    "The last type we need to address is `Tensor`.\n",
    "It is used to store the results of scalar products, [see here](ComputationOfScalarProducts).\n",
    "Its fields are\n",
    "```\n",
    "dim::Int64          # \"dimension\"\n",
    "T::SparseVector{Float64,Int64}\n",
    "get::Function\n",
    "op::Union{OrthoPolyQ,MultiOrthoPoly}\n",
    "```"
   ]
  },
  {
   "cell_type": "code",
   "execution_count": null,
   "metadata": {},
   "outputs": [],
   "source": []
  }
 ],
 "metadata": {
  "kernelspec": {
   "display_name": "Julia 0.7.0",
   "language": "julia",
   "name": "julia-0.7"
  },
  "language_info": {
   "file_extension": ".jl",
   "mimetype": "application/julia",
   "name": "julia",
   "version": "0.7.0"
  }
 },
 "nbformat": 4,
 "nbformat_minor": 2
}
