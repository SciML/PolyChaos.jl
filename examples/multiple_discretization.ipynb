{
 "cells": [
  {
   "cell_type": "markdown",
   "metadata": {},
   "source": [
    "# Multiple Discretization\n",
    "\n",
    "This tutorial shows how to compute recurrence coefficients for non-trivial weight functions, and how they are being used for quadrature.\n",
    "The method we use is called *multiple discretization*, and follows W. Gautschi's book \"Orthogonal Polynomials: Computation and Approximation\", specifically Section 2.2.4, and Example 2.38.\n",
    "\n",
    "Suppose we have the weight function\n",
    "$$\n",
    "\\forall t \\in [-1,1], \\gamma \\in [0,1]: \\quad w(t;\\gamma) = \\gamma + (1-\\gamma) \\frac{1}{\\sqrt{1-t^2}},\n",
    "$$\n",
    "and we would like to solve\n",
    "$$\n",
    "\\int_{-1}^{1} f(t) w(t;c) \\mathrm{d}t = \\sum_{\\nu=1}^{N} f(\\tau_\\nu) w_\\nu\n",
    "$$\n",
    "by some quadrature rule.\n",
    "We will see that ad-hoc quadrature rules will fail to solve the integral even for the simplest choice $f \\equiv 1$.\n",
    "However, finding the recurrence coefficients of the underlying orthogonal polynomials, and then finding the quadrature rule will be the way to go.\n",
    "\n",
    "Let us first try to solve the integral for $f \\equiv 1$ by Fejer's rule."
   ]
  },
  {
   "cell_type": "code",
   "execution_count": null,
   "metadata": {},
   "outputs": [],
   "source": [
    "using PolyChaos, LinearAlgebra\n",
    "γ = 0.5;\n",
    "int_exact = 1+pi/2; # exact value of the integral\n",
    "function my_w(t::Float64,γ::Float64)\n",
    "    γ + (1-γ)*1/sqrt(1-t^2)\n",
    "end\n",
    "\n",
    "N = 1000;\n",
    "n,w = fejer(N);\n",
    "int_fejer = dot(w,my_w.(n,γ))\n",
    "print(\"Fejer error:\\t$(abs(int_exact-int_fejer))\\twith $N nodes\")"
   ]
  },
  {
   "cell_type": "markdown",
   "metadata": {},
   "source": [
    "Clearly, that is not satisfying.\n",
    "Well, the term $\\gamma$ of the weight $w$ makes us think of Gauss-Legendre integration, so let's try it instead."
   ]
  },
  {
   "cell_type": "code",
   "execution_count": null,
   "metadata": {},
   "outputs": [],
   "source": [
    "function quad_gaussleg(N::Int,γ::Float64)\n",
    "    a,b=rm_legendre(N)\n",
    "    n,w=golubwelsch(a,b)\n",
    "end\n",
    "n,w = quad_gaussleg(N+1,γ)\n",
    "int_gaussleg = dot(w,γ .+ (1-γ)/sqrt.(1 .- n.^2))\n",
    "print(\"Gauss-Legendre error:\\t$(abs(int_exact-int_gaussleg))\\twith $N nodes\")"
   ]
  },
  {
   "cell_type": "markdown",
   "metadata": {},
   "source": [
    "Even worse!\n",
    "Well, we can factor out $\\frac{1}{\\sqrt{1-t^2}}$, making the integral amenable to a Gauss-Chebyshev rule.\n",
    "So, let's give it anothery try."
   ]
  },
  {
   "cell_type": "code",
   "execution_count": null,
   "metadata": {},
   "outputs": [],
   "source": [
    "function quad_gausscheb(N::Int64,γ::Float64)\n",
    "    a,b = rm_chebyshev1(N)\n",
    "    n,w = golubwelsch(a,b)\n",
    "end\n",
    "n,w = quad_gausscheb(N+1,γ)\n",
    "int_gausscheb = dot(w,γ .+ (1-γ)*sqrt.(1 .- n.^2))\n",
    "# int=sum(xw(:,2).*(1+sqrt(1-xw(:,1).^2)))\n",
    "print(\"Gauss-Chebyshev error:\\t$(abs(int_exact-int_gausscheb))\\twith $(length(n)) nodes\")"
   ]
  },
  {
   "cell_type": "markdown",
   "metadata": {},
   "source": [
    "Okay, that's better, but it took us a lot of nodes to get this result.\n",
    "Is there a different way?\n",
    "Indeed, there is.\n",
    "As we have noticed, the weight $w$ has a lot in common with Gauss-Legendre *and* Gauss-Chebyshev.\n",
    "We can decompose the integral as follows\n",
    "$$\n",
    "\\int_{-1}^1 f(t) w(t) \\mathrm{d}t = \\sum_{i=1}^{m} \\int_{-1}^{1} f(t) w_i(t) \\mathrm{d} t,\n",
    "$$\n",
    "with\n",
    "$$\n",
    "\\begin{align*}\n",
    "w_1(t) &= \\gamma \\\\\n",
    "w_2(t) &= (1-\\gamma) \\frac{1}{\\sqrt{1-t^2}}.\n",
    "\\end{align*}\n",
    "$$\n",
    "To the weight $w_1$ we can apply Gauss-Legendre quadrature, to the weight $w_2$ we can apply Gauss-Chebyshev quadrature (with tiny modifications).\n",
    "This *discretization* of the measure can be used in our favor.\n",
    "The function `mcdiscretization()` takes the $m$ discretization rules as an input"
   ]
  },
  {
   "cell_type": "code",
   "execution_count": null,
   "metadata": {},
   "outputs": [],
   "source": [
    "function quad_gaussleg_mod(N::Int,γ::Float64)\n",
    "    n,w = quad_gaussleg(N+1,γ)\n",
    "    return n,γ*w\n",
    "end\n",
    "function quad_gausscheb_mod(N::Int,γ::Float64)\n",
    "            n,w = quad_gausscheb(N+1,γ)\n",
    "    return n,(1-γ)*w\n",
    "end\n",
    "\n",
    "N = 8\n",
    "a,b = mcdiscretization(N,[n->quad_gaussleg_mod(n,γ); n->quad_gausscheb_mod(n,γ)])\n",
    "n,w = golubwelsch(a,b)\n",
    "int_mc = sum(w)\n",
    "print(\"Discretization error:\\t$(abs(int_exact-int_mc))\\twith $(length(n)) nodes\")"
   ]
  },
  {
   "cell_type": "markdown",
   "metadata": {},
   "source": [
    "Et voilà, no error with fewer nodes.\n",
    "(For this example, we'd need in fact just a single node.)\n",
    "\n",
    "The function `mcdiscretization()` is able to construct the recurrence coefficients of the orthogonal polynomials relative to the weight $w$.\n",
    "Let's inspect the values of the recurrence coefficients a little more.\n",
    "For $\\gamma = 0$, we are in the world of Chebyshev polynomials, for $\\gamma = 1$, we enter the realm of Legendre polynomials. And in between?\n",
    "That's exactly where the weight $w$ comes in: it can be thought of as an interpolatory weight, interpolating Legendre polynomials and Chebyshev polynomials.\n",
    "Let's verify this by plotting the recurrence coefficients for several values of $\\gamma$.\n",
    "\n"
   ]
  },
  {
   "cell_type": "code",
   "execution_count": null,
   "metadata": {},
   "outputs": [],
   "source": [
    "Γ = 0:0.1:1;\n",
    "ab = [ mcdiscretization(N,[n->quad_gaussleg_mod(n,gam); n->quad_gausscheb_mod(n,gam)]) for gam in Γ ];\n",
    "bb = hcat([ ab[i][2] for i=1:length(Γ)]...);\n",
    "b_leg = rm_legendre(N)[2];\n",
    "b_cheb = rm_chebyshev1(N)[2]\n",
    "bb[:,1]-b_cheb"
   ]
  },
  {
   "cell_type": "code",
   "execution_count": null,
   "metadata": {},
   "outputs": [],
   "source": [
    "bb[:,end]-b_leg"
   ]
  },
  {
   "cell_type": "markdown",
   "metadata": {},
   "source": [
    "Let's plot these values to get a better feeling."
   ]
  },
  {
   "cell_type": "code",
   "execution_count": null,
   "metadata": {},
   "outputs": [],
   "source": [
    "using Plots\n",
    "gr()\n",
    "plot(Γ,bb',yaxis=:log10, w=3, legend=false)\n",
    "zs, os = zeros(N), ones(N)\n",
    "scatter!(zs,b_cheb,marker=:x)\n",
    "scatter!(os,b_leg,marker=:circle)\n",
    "\n",
    "xlabel!(\"gamma\")\n",
    "ylabel!(\"beta\")\n",
    "title!(\"N=$N Recurrence Coefficients Interpolating from Chebyshev to Legendre\")"
   ]
  },
  {
   "cell_type": "markdown",
   "metadata": {},
   "source": [
    "The crosses denote the values of the β recursion coefficients for Chebyshev polynomials; the circles the β recursion coefficients for Legendre polynomials.\n",
    "The interpolating line in between stands for the β recursion coefficients of $w(t;\\gamma)$."
   ]
  }
 ],
 "metadata": {
  "kernelspec": {
   "display_name": "Julia 1.1.0",
   "language": "julia",
   "name": "julia-1.1"
  },
  "language_info": {
   "file_extension": ".jl",
   "mimetype": "application/julia",
   "name": "julia",
   "version": "1.1.0"
  }
 },
 "nbformat": 4,
 "nbformat_minor": 2
}
