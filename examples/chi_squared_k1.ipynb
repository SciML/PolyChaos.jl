{
 "cells": [
  {
   "cell_type": "markdown",
   "metadata": {},
   "source": [
    "# Chi-squared Distribution ($k=1$)\n",
    "\n",
    "\n",
    "## Theory\n",
    "Given a standard random variable $X \\sim \\mathcal{N}(0,1)$ we would like to find the random variable $Y = X^2$.\n",
    "The analytic solution is known: $Y$ follows a chi-squared distribution with $k=1$ degree of freedom.\n",
    "\n",
    "Using polynomial chaos expansion (PCE), the problem can be solved using Galerkin projection.\n",
    "Let $\\{\\phi_k \\}_{k=0}^{n}$ be the monic orthogonal basis relative to the probability density of $X$, namely\n",
    "$$\n",
    "f_X(x) = \\frac{1}{\\sqrt{2 \\pi}} \\exp \\left( - \\frac{x^2}{2} \\right).\n",
    "$$\n",
    "Then, the PCE of $X$ is given by\n",
    "$$\n",
    "X = \\sum_{k=0}^n x_k \\phi_k,\n",
    "$$\n",
    "with\n",
    "$$\n",
    "x_0 = 0, \\quad x_1 = 1, \\quad x_i = 0 \\quad \\forall i =2,\\dots,n.\n",
    "$$\n",
    "To find the PCE coefficients $y_k$ for $Y = \\sum_{k=}^n y_k \\phi_k$, we apply Galerkin projection, which leads to\n",
    "$$\n",
    "y_m \\langle \\phi_m, \\phi_m \\rangle = \\sum_{i=0}^n \\sum_{j=0}^n x_i x_j \\langle \\phi_i \\phi_j, \\phi_m \\rangle \\quad \\forall m = 0, \\dots, n.\n",
    "$$\n",
    "Hence, knowing the scalars $\\langle \\phi_m, \\phi_m \\rangle$, and $\\langle \\phi_i \\phi_j, \\phi_m \\rangle$, the PCE coefficients $y_k$ can be obtained immediately.\n",
    "From the PCE coefficients we can get the moments and compare them to the closed-form expressions.\n",
    "\n",
    "__Notice:__ A maximum degree of 2 suffices to get the *exact* solution with PCE.\n",
    "In other words, increasing the maximum degree to values greater than 2 introduces nothing but computational overhead (and numerical errors, possibly).\n",
    "\n",
    "\n",
    "## Practice\n",
    "First, we create a orthogonal basis relative to $f_X(x)$ of degree at most $d=2$ (`deg` below).\n",
    "\n",
    "Notice that we consider a total of `Nrec` recursion coefficients, and that we also add a quadrature rule by calling `OrthoPolyQ()`."
   ]
  },
  {
   "cell_type": "code",
   "execution_count": null,
   "metadata": {},
   "outputs": [],
   "source": [
    "using PolyChaos\n",
    "k = 1\n",
    "deg, Nrec = 2, 20\n",
    "op = OrthoPoly(\"gaussian\",deg;Nrec=Nrec);\n",
    "opq = OrthoPolyQ(op) #OR: opq = OrthoPolyQ(\"gaussian\",deg;Nrec=Nrec)"
   ]
  },
  {
   "cell_type": "markdown",
   "metadata": {},
   "source": [
    "What are the basis polynomials?"
   ]
  },
  {
   "cell_type": "code",
   "execution_count": null,
   "metadata": {},
   "outputs": [],
   "source": [
    "showbasis(opq; sym=\"ξ\") # works for `op` too!"
   ]
  },
  {
   "cell_type": "markdown",
   "metadata": {},
   "source": [
    "Note that the command `showbasis` is based on the more general `showpoly`:"
   ]
  },
  {
   "cell_type": "code",
   "execution_count": null,
   "metadata": {},
   "outputs": [],
   "source": [
    "showpoly(0:2:deg,opq)"
   ]
  },
  {
   "cell_type": "markdown",
   "metadata": {},
   "source": [
    "Next, we define the PCE for $X$."
   ]
  },
  {
   "cell_type": "code",
   "execution_count": null,
   "metadata": {},
   "outputs": [],
   "source": [
    "L = dim(opq)\n",
    "mu, sig = 0., 1.\n",
    "x = [ convert2affinePCE(\"gaussian\",mu,sig); zeros(Float64,L-2) ]"
   ]
  },
  {
   "cell_type": "markdown",
   "metadata": {},
   "source": [
    "With the orthogonal basis and the quadrature at hand, we can compute the tensors `t2` and `t3` that store the entries $\\langle \\phi_m, \\phi_m \\rangle$, and $\\langle \\phi_i \\phi_j, \\phi_m \\rangle$, respectively."
   ]
  },
  {
   "cell_type": "code",
   "execution_count": null,
   "metadata": {},
   "outputs": [],
   "source": [
    "t2 = Tensor(2,opq);\n",
    "t3 = Tensor(3,opq)"
   ]
  },
  {
   "cell_type": "markdown",
   "metadata": {},
   "source": [
    "With the tensors at hand, we can compute the Galerkin projection."
   ]
  },
  {
   "cell_type": "code",
   "execution_count": null,
   "metadata": {},
   "outputs": [],
   "source": [
    "y = [ sum( x[i]*x[j]*t3.get([i-1,j-1,m-1])/t2.get([m-1,m-1])  for i=1:L, j=1:L ) for m=1:L ]"
   ]
  },
  {
   "cell_type": "markdown",
   "metadata": {},
   "source": [
    "Let's compare the moments via PCE to the closed-form expressions."
   ]
  },
  {
   "cell_type": "code",
   "execution_count": null,
   "metadata": {},
   "outputs": [],
   "source": [
    "moms_analytic(k) = [k, sqrt(2k), sqrt(8/k)]\n",
    "function myskew(y)\n",
    "   e3 = sum( y[i]*y[j]*y[k]*t3.get([i-1,j-1,k-1]) for i=1:L,j=1:L,k=1:L )\n",
    "   μ = y[1]\n",
    "   σ = std(y,opq)\n",
    "   (e3-3*μ*σ^2-μ^3)/(σ^3)\n",
    "end\n",
    "\n",
    "print(\"Expected value:\\t\\t$(moms_analytic(k)[1]) = $(mean(y,opq))\\n\")\n",
    "print(\"\\t\\t\\terror = $(abs(mean(y,opq)-moms_analytic(k)[1]))\\n\")\n",
    "print(\"Standard deviation:\\t$(moms_analytic(k)[2]) = $(std(y,opq))\\n\")\n",
    "print(\"\\t\\t\\terror = $(moms_analytic(k)[2]-std(y,opq))\\n\")\n",
    "print(\"Skewness:\\t\\t$(moms_analytic(k)[3]) = $(myskew(y))\\n\")\n",
    "print(\"\\t\\t\\terror = $(moms_analytic(k)[3]-myskew(y))\\n\")\n"
   ]
  },
  {
   "cell_type": "markdown",
   "metadata": {},
   "source": [
    "Let's plot the probability density function to compare results.\n",
    "We first draw samples from the measure with the help of `sampleMeasure()`, and then evaluate the basis at these samples and multiply times the PCE coefficients.\n",
    "The latter stop is done using `evaluatePCE()`.\n",
    "Finally, we compare the result agains the analytical PDF $\\rho(t) = \\frac{\\mathrm{e}^{-0.5t}}{\\sqrt{2 t} \\, \\Gamma(0.5)}$ of the chi-squared distribution with one degree of freedom."
   ]
  },
  {
   "cell_type": "code",
   "execution_count": null,
   "metadata": {},
   "outputs": [],
   "source": [
    "using Plots\n",
    "gr()\n",
    "Nsmpl = 10000\n",
    "#ξ = sampleMeasure(Nsmpl,opq)\n",
    "#ysmpl = evaluatePCE(y,ξ,opq)\n",
    "ysmpl = samplePCE(Nsmpl,y,opq)\n",
    "histogram(ysmpl;normalize=true,xlabel=\"t\",ylabel=\"\\rho(t)\")\n",
    "\n",
    "\n",
    "import SpecialFunctions: gamma\n",
    "ρ(t) = 1/(sqrt(2)*gamma(0.5))*1/sqrt(t)*exp(-0.5*t)\n",
    "t = range(0.1; stop=maximum(ysmpl), length=100)\n",
    "plot!(t,ρ.(t),w=4)"
   ]
  }
 ],
 "metadata": {
  "kernelspec": {
   "display_name": "Julia 1.1.0",
   "language": "julia",
   "name": "julia-1.1"
  },
  "language_info": {
   "file_extension": ".jl",
   "mimetype": "application/julia",
   "name": "julia",
   "version": "1.1.0"
  }
 },
 "nbformat": 4,
 "nbformat_minor": 2
}
