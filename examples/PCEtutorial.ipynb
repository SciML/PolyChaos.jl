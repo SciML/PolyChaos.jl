{
 "cells": [
  {
   "cell_type": "markdown",
   "metadata": {},
   "source": [
    "# Common Random Variables\n",
    "Polynomial chaos expansion (PCE) is a Hilbert space technique for random variables with finite variance.\n",
    "Mathematically equivalent to Fourier series expansions for periodic signals, PCE allows to characterize a random variable in terms of its PCE coefficients (aka Fourier coefficients).\n",
    "That is, the PCE of a random variable $\\mathsf{x}$ is given by\n",
    "$$\n",
    "\\mathsf{x} = \\sum_{i=0}^L x_i \\phi_i,\n",
    "$$\n",
    "where $x_i$ are the so-called PCE coefficients, and $\\phi_i$ are the orthogonal polynomials that are orthogonal relative to the probability density function of $\\mathsf{x}$.\n",
    "\n",
    "This tutorial walks you through the PCE of common random variables, namely Gaussian (`gaussian`), Beta (`beta01`), Uniform(`uniform01`), Logistic (`logistic`), and shows how they are implemented in `PolyChaos`.\n",
    "\n",
    "## Construction of Basis\n",
    "\n"
   ]
  },
  {
   "cell_type": "code",
   "execution_count": 1,
   "metadata": {},
   "outputs": [],
   "source": [
    "using PolyChaos"
   ]
  },
  {
   "cell_type": "markdown",
   "metadata": {},
   "source": [
    "The orthogonal polynomials are constructed using the `OrthoPoly`-type (here of degree at most `d`). For canonical measures special constructors are implemented:"
   ]
  },
  {
   "cell_type": "code",
   "execution_count": 2,
   "metadata": {},
   "outputs": [
    {
     "data": {
      "text/plain": [
       "Dict{Any,Any} with 4 entries:\n",
       "  \"uniform01\" => Uniform01OrthoPoly{Array{Float64,1},Uniform01Measure,Quad{Floa…\n",
       "  \"logistic\"  => LogisticOrthoPoly{Array{Float64,1},LogisticMeasure,Quad{Float6…\n",
       "  \"beta01\"    => Beta01OrthoPoly{Array{Float64,1},Beta01Measure,Quad{Float64,Ar…\n",
       "  \"gaussian\"  => GaussOrthoPoly{Array{Float64,1},GaussMeasure,Quad{Float64,Arra…"
      ]
     },
     "execution_count": 2,
     "metadata": {},
     "output_type": "execute_result"
    }
   ],
   "source": [
    "d = 6\n",
    "\n",
    "myops = Dict()\n",
    "polynames = [\"gaussian\", \"beta01\", \"uniform01\", \"logistic\"]\n",
    "\n",
    "# gaussian\n",
    "gaussian = GaussOrthoPoly(d);\n",
    "myops[\"gaussian\"] = gaussian\n",
    "\n",
    "# beta01\n",
    "α, β = 1.3, 2.2\n",
    "beta01 = Beta01OrthoPoly(d,α,β);\n",
    "myops[\"beta01\"] = beta01\n",
    "\n",
    "# uniform01\n",
    "uniform01 = Uniform01OrthoPoly(d);\n",
    "myops[\"uniform01\"] = uniform01\n",
    "\n",
    "# logistic\n",
    "logistic = LogisticOrthoPoly(d);\n",
    "myops[\"logistic\"] = logistic;\n",
    "\n",
    "myops"
   ]
  },
  {
   "cell_type": "markdown",
   "metadata": {},
   "source": [
    "For example, let's evaluate the Gaussian basis polynomials at some points"
   ]
  },
  {
   "cell_type": "code",
   "execution_count": 3,
   "metadata": {},
   "outputs": [
    {
     "data": {
      "text/plain": [
       "4-element Array{Array{Float64,1},1}:\n",
       " [1.0, 1.0, 1.0, 1.0, 1.0, 1.0, 1.0, 1.0, 1.0, 1.0]                                                                                                                                                            \n",
       " [1.202801415837944, -0.9980228340428031, 0.20922812599514273, -0.27303587033243937, 1.1735316146618584, -0.28179974420729514, -0.9996492608367771, 1.1076439449345306, 0.4509528657724353, 1.6254795664781185]\n",
       " [-5.364474417410014, 2.988140913442041, -2.7931360952731317, -0.8333079321820498, -5.3169500080365655, -0.7933899273355224, 2.997895688038623, -5.203700670987993, -3.6004529759413693, -5.859734444874583]   \n",
       " [22.029780924737587, -14.911086161975367, 19.249948619379953, 10.170416857963922, 22.213611760342687, 9.952293427751515, -14.98421858288123, 22.574030489217968, 21.768554830682078, 17.8472421561276]        "
      ]
     },
     "execution_count": 3,
     "metadata": {},
     "output_type": "execute_result"
    }
   ],
   "source": [
    "points, degrees = randn(10), 0:2:d\n",
    "\n",
    "[ evaluate(degree,points,gaussian) for degree in degrees ]"
   ]
  },
  {
   "cell_type": "markdown",
   "metadata": {},
   "source": [
    "## Finding PCE Coefficients\n",
    "Having constructed the orthogonal bases, the question remains how to find the PCE coefficients for the common random variables.\n",
    "Every random variable can be characterized exactly by two PCE coefficients.\n",
    "For a Gaussian random variable, this is familiar: the mean and the variance suffice to describe a Gaussian random variable entirely.\n",
    "The same is true for any random variable of finite variance given the right basis.\n",
    "The function `convert2affinePCE` provides the first two PCE coefficients (hence the name affine) for the common random variables.\n",
    "\n",
    "### Gaussian\n",
    "Given the Gaussian random variable $\\mathsf{x} \\sim \\mathcal{N}(\\mu, \\sigma^2)$ with $\\sigma > 0$, the affine PCE coefficients are"
   ]
  },
  {
   "cell_type": "code",
   "execution_count": 4,
   "metadata": {},
   "outputs": [
    {
     "data": {
      "text/plain": [
       "2-element Array{Float64,1}:\n",
       " 2.0\n",
       " 0.2"
      ]
     },
     "execution_count": 4,
     "metadata": {},
     "output_type": "execute_result"
    }
   ],
   "source": [
    "# Gaussian\n",
    "μ, σ = 2., 0.2\n",
    "pce_gaussian = convert2affinePCE(μ,σ,gaussian)"
   ]
  },
  {
   "cell_type": "markdown",
   "metadata": {},
   "source": [
    "### Uniform\n",
    "Given the uniform random variable $\\mathsf{x} \\sim \\mathcal{U}(a, b)$ with finite support $a<b$, the affine PCE coefficients are"
   ]
  },
  {
   "cell_type": "code",
   "execution_count": 5,
   "metadata": {},
   "outputs": [
    {
     "data": {
      "text/plain": [
       "2-element Array{Float64,1}:\n",
       " 0.45\n",
       " 1.5 "
      ]
     },
     "execution_count": 5,
     "metadata": {},
     "output_type": "execute_result"
    }
   ],
   "source": [
    "a, b = -0.3, 1.2\n",
    "convert2affinePCE(a,b,uniform01)"
   ]
  },
  {
   "cell_type": "markdown",
   "metadata": {},
   "source": [
    "Instead, if the expected value and standard deviation are known, the affine PCE coefficients of the uniform random variable are"
   ]
  },
  {
   "cell_type": "code",
   "execution_count": 6,
   "metadata": {},
   "outputs": [
    {
     "data": {
      "text/plain": [
       "2-element Array{Float64,1}:\n",
       " 2.0               \n",
       " 0.6928203230275509"
      ]
     },
     "execution_count": 6,
     "metadata": {},
     "output_type": "execute_result"
    }
   ],
   "source": [
    "pce_uniform = convert2affinePCE(μ,σ,uniform01;kind=\"μσ\")\n",
    "# notice that the zero-order coefficient IS equivalent to the expected value μ"
   ]
  },
  {
   "cell_type": "markdown",
   "metadata": {},
   "source": [
    "### Beta\n",
    "Given the Beta random variable $\\mathsf{x} \\sim \\mathcal{B}(a, b, \\alpha, \\beta)$ with finite support $a<b$ and shape parameters $\\alpha, \\beta > 0$, the affine PCE coefficients are"
   ]
  },
  {
   "cell_type": "code",
   "execution_count": 7,
   "metadata": {},
   "outputs": [
    {
     "data": {
      "text/plain": [
       "2-element Array{Float64,1}:\n",
       " 0.2571428571428572\n",
       " 1.5               "
      ]
     },
     "execution_count": 7,
     "metadata": {},
     "output_type": "execute_result"
    }
   ],
   "source": [
    "convert2affinePCE(a,b,beta01)"
   ]
  },
  {
   "cell_type": "markdown",
   "metadata": {},
   "source": [
    "Instead, if the expected value and standard deviation are known, the affine PCE coefficients of the uniform random variable are"
   ]
  },
  {
   "cell_type": "code",
   "execution_count": 8,
   "metadata": {},
   "outputs": [
    {
     "data": {
      "text/plain": [
       "2-element Array{Float64,1}:\n",
       " 2.0               \n",
       " 0.8780541105074454"
      ]
     },
     "execution_count": 8,
     "metadata": {},
     "output_type": "execute_result"
    }
   ],
   "source": [
    "pce_beta = convert2affinePCE(μ,σ,beta01; kind=\"μσ\")"
   ]
  },
  {
   "cell_type": "markdown",
   "metadata": {},
   "source": [
    "### Logistic"
   ]
  },
  {
   "cell_type": "markdown",
   "metadata": {},
   "source": [
    "Given the logstic random variable $\\mathsf{x} \\sim \\mathcal{L}(a_1,a_2)$ where $a_2>0$ with the probability density function\n",
    "$$\n",
    "\\rho(t) = \\frac{1}{4 a_2} \\, \\operatorname{sech}^2 \\left(\\frac{t-a_1}{2a_2}\\right)\n",
    "$$\n",
    "the affine PCE coefficients of the uniform random variable are"
   ]
  },
  {
   "cell_type": "code",
   "execution_count": 9,
   "metadata": {},
   "outputs": [
    {
     "data": {
      "text/plain": [
       "2-element Array{Float64,1}:\n",
       " 2.0                \n",
       " 0.11026577908435842"
      ]
     },
     "execution_count": 9,
     "metadata": {},
     "output_type": "execute_result"
    }
   ],
   "source": [
    "a1, a2 = μ, sqrt(3)*σ/pi\n",
    "pce_logistic = convert2affinePCE(a1,a2,logistic)"
   ]
  },
  {
   "cell_type": "markdown",
   "metadata": {},
   "source": [
    "## Moments\n",
    "It is a key feature of PCE to compute moments from the PCE coefficients alone; no sampling is required.\n",
    "\n",
    "### Gaussian"
   ]
  },
  {
   "cell_type": "code",
   "execution_count": 10,
   "metadata": {},
   "outputs": [
    {
     "data": {
      "text/plain": [
       "(2.0, 0.2)"
      ]
     },
     "execution_count": 10,
     "metadata": {},
     "output_type": "execute_result"
    }
   ],
   "source": [
    "mean(pce_gaussian,myops[\"gaussian\"]), std(pce_gaussian,myops[\"gaussian\"])"
   ]
  },
  {
   "cell_type": "markdown",
   "metadata": {},
   "source": [
    "### Uniform"
   ]
  },
  {
   "cell_type": "code",
   "execution_count": 11,
   "metadata": {},
   "outputs": [
    {
     "data": {
      "text/plain": [
       "(2.0, 0.19999999999999998)"
      ]
     },
     "execution_count": 11,
     "metadata": {},
     "output_type": "execute_result"
    }
   ],
   "source": [
    "mean(pce_uniform,myops[\"uniform01\"]), std(pce_uniform,myops[\"uniform01\"])"
   ]
  },
  {
   "cell_type": "markdown",
   "metadata": {},
   "source": [
    "### Beta"
   ]
  },
  {
   "cell_type": "code",
   "execution_count": 12,
   "metadata": {},
   "outputs": [
    {
     "data": {
      "text/plain": [
       "(2.0, 0.20000000000000004)"
      ]
     },
     "execution_count": 12,
     "metadata": {},
     "output_type": "execute_result"
    }
   ],
   "source": [
    "mean(pce_beta,myops[\"beta01\"]), std(pce_beta,myops[\"beta01\"])"
   ]
  },
  {
   "cell_type": "markdown",
   "metadata": {},
   "source": [
    "### Logistic"
   ]
  },
  {
   "cell_type": "code",
   "execution_count": 13,
   "metadata": {},
   "outputs": [
    {
     "data": {
      "text/plain": [
       "(2.0, 0.2)"
      ]
     },
     "execution_count": 13,
     "metadata": {},
     "output_type": "execute_result"
    }
   ],
   "source": [
    "mean(pce_logistic,myops[\"logistic\"]), std(pce_logistic,myops[\"logistic\"])"
   ]
  },
  {
   "cell_type": "markdown",
   "metadata": {},
   "source": [
    "## Sampling\n",
    "Having found the PCE coefficients, it may be useful to sample the random variables.\n",
    "That means, find $N$ realizations of the random variable that obey the random variable's probability density function.\n",
    "This is done in two steps:\n",
    "1. Draw $N$ samples from the measure (`sampleMeasure()`), and then\n",
    "2. Evaluate the basis polynomials and multiply times the PCE coefficients, i.e. $\\sum_{i=0}^L x_i \\phi_i(\\xi_j)$ where $\\xi_j$ is the $j$-th sample from the measure (`evaluatePCE()`).\n",
    "\n",
    "Both steps are combined in the function `samplePCE()`.\n",
    "\n",
    "### Gaussian"
   ]
  },
  {
   "cell_type": "code",
   "execution_count": 14,
   "metadata": {},
   "outputs": [
    {
     "data": {
      "text/plain": [
       "1000-element Array{Float64,1}:\n",
       " 2.027829506511474 \n",
       " 2.3505506958869455\n",
       " 1.6519127674699183\n",
       " 2.0306899952184883\n",
       " 2.2623498572217833\n",
       " 1.872040264273541 \n",
       " 1.6221768005741044\n",
       " 1.8082353411869314\n",
       " 1.830474841177156 \n",
       " 2.1975773986724914\n",
       " 2.0884960032119486\n",
       " 1.7777155851422968\n",
       " 2.0718253727167295\n",
       " ⋮                 \n",
       " 2.3438942755566488\n",
       " 1.8898097049320415\n",
       " 2.1957192187925485\n",
       " 2.075597865375688 \n",
       " 1.8129422869650513\n",
       " 2.0751520918462587\n",
       " 1.9738912926048482\n",
       " 1.9282633697131966\n",
       " 2.0797049768672204\n",
       " 2.029868691610999 \n",
       " 1.9074004016345567\n",
       " 2.0416687821884083"
      ]
     },
     "execution_count": 14,
     "metadata": {},
     "output_type": "execute_result"
    }
   ],
   "source": [
    "using Statistics\n",
    "N = 1000\n",
    "ξ_gaussian = sampleMeasure(N,myops[\"gaussian\"])\n",
    "samples_gaussian = evaluatePCE(pce_gaussian,ξ_gaussian,myops[\"gaussian\"])\n",
    "# samplePCE(N,pce_gaussian,myops[\"gaussian\"])"
   ]
  },
  {
   "cell_type": "markdown",
   "metadata": {},
   "source": [
    "### Uniform"
   ]
  },
  {
   "cell_type": "code",
   "execution_count": 15,
   "metadata": {},
   "outputs": [
    {
     "data": {
      "text/plain": [
       "1000-element Array{Float64,1}:\n",
       " 1.7271339218642832\n",
       " 2.2265540408884528\n",
       " 2.207598855982469 \n",
       " 1.8450679500853044\n",
       " 2.2137505990217536\n",
       " 2.3246612766084733\n",
       " 1.8172329050083509\n",
       " 2.2193114177776545\n",
       " 2.1092415058372507\n",
       " 2.197667751189136 \n",
       " 1.836635008448008 \n",
       " 2.261092857529893 \n",
       " 1.705952198365778 \n",
       " ⋮                 \n",
       " 2.1189840132602487\n",
       " 1.8244441070550297\n",
       " 2.0995526908862994\n",
       " 1.8061886348582161\n",
       " 1.6820886779944582\n",
       " 1.6547968643899527\n",
       " 2.274867102113772 \n",
       " 1.9668581036184074\n",
       " 1.6669576209884998\n",
       " 2.1352300930243624\n",
       " 1.7532822852894292\n",
       " 2.3315685436486073"
      ]
     },
     "execution_count": 15,
     "metadata": {},
     "output_type": "execute_result"
    }
   ],
   "source": [
    "ξ_uniform = sampleMeasure(N,myops[\"uniform01\"])\n",
    "samples_uniform = evaluatePCE(pce_uniform,ξ_uniform,myops[\"uniform01\"])\n",
    "# samples_uniform = samplePCE(N,pce_uniform,myops[\"uniform01\"])"
   ]
  },
  {
   "cell_type": "markdown",
   "metadata": {},
   "source": [
    "### Beta"
   ]
  },
  {
   "cell_type": "code",
   "execution_count": 16,
   "metadata": {},
   "outputs": [
    {
     "data": {
      "text/plain": [
       "1000-element Array{Float64,1}:\n",
       " 1.725996433223128 \n",
       " 2.080671494974654 \n",
       " 2.07443372323835  \n",
       " 1.9179167905739314\n",
       " 1.7259363587410204\n",
       " 2.270123269678409 \n",
       " 2.20256123196523  \n",
       " 1.7071812384146907\n",
       " 2.155640005220347 \n",
       " 2.0060286830699026\n",
       " 1.911357355191882 \n",
       " 2.052871732171306 \n",
       " 1.8999850540938654\n",
       " ⋮                 \n",
       " 2.0372348843537047\n",
       " 1.8459752527254811\n",
       " 1.8859213864007358\n",
       " 1.7646025557893341\n",
       " 2.0291794317169445\n",
       " 1.8948608581558348\n",
       " 2.1259698212905174\n",
       " 2.3208481628901674\n",
       " 1.8339225271678894\n",
       " 2.2559062715849474\n",
       " 1.805267431794866 \n",
       " 1.7553718790153154"
      ]
     },
     "execution_count": 16,
     "metadata": {},
     "output_type": "execute_result"
    }
   ],
   "source": [
    "ξ_beta = sampleMeasure(N,myops[\"beta01\"])\n",
    "samples_beta = evaluatePCE(pce_beta,ξ_beta,myops[\"beta01\"])\n",
    "# samples_beta = samplePCE(N,pce_beta,myops[\"beta01\"])"
   ]
  },
  {
   "cell_type": "markdown",
   "metadata": {},
   "source": [
    "### Logistic"
   ]
  },
  {
   "cell_type": "code",
   "execution_count": 17,
   "metadata": {},
   "outputs": [
    {
     "data": {
      "text/plain": [
       "1000-element Array{Float64,1}:\n",
       " 2.059254264972423 \n",
       " 1.8175292324256191\n",
       " 2.1149584380750883\n",
       " 2.309617625055588 \n",
       " 1.8957399128754335\n",
       " 2.1801211128448266\n",
       " 1.7557604663921675\n",
       " 2.185175951563327 \n",
       " 1.9372226084167772\n",
       " 2.389052188917093 \n",
       " 2.0241765861725725\n",
       " 2.2610914753795446\n",
       " 1.8806412733548687\n",
       " ⋮                 \n",
       " 1.7573730729254535\n",
       " 2.106683787105582 \n",
       " 2.029803509407892 \n",
       " 2.0096958500503677\n",
       " 2.0639266747463902\n",
       " 1.9360368948800142\n",
       " 1.9752671707271892\n",
       " 1.8721070740738137\n",
       " 1.8999603224017279\n",
       " 2.2148943687482205\n",
       " 2.2498365328226404\n",
       " 1.8923748382046846"
      ]
     },
     "execution_count": 17,
     "metadata": {},
     "output_type": "execute_result"
    }
   ],
   "source": [
    "ξ_logistic = sampleMeasure(N,myops[\"logistic\"])\n",
    "samples_logistic = evaluatePCE(pce_logistic,ξ_logistic,myops[\"logistic\"])\n",
    "# samples_logistic = samplePCE(N,pce_logistic,myops[\"logistic\"])"
   ]
  }
 ],
 "metadata": {
  "kernelspec": {
   "display_name": "Julia 1.3.1",
   "language": "julia",
   "name": "julia-1.3"
  },
  "language_info": {
   "file_extension": ".jl",
   "mimetype": "application/julia",
   "name": "julia",
   "version": "1.3.1"
  }
 },
 "nbformat": 4,
 "nbformat_minor": 2
}
